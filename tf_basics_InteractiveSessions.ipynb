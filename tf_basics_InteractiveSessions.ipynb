{
 "cells": [
  {
   "cell_type": "code",
   "execution_count": 1,
   "metadata": {
    "collapsed": true
   },
   "outputs": [],
   "source": [
    "import tensorflow as tf\n",
    "\n",
    "session = tf.InteractiveSession()\n",
    "\n",
    "x = tf.constant(list(range(10)))"
   ]
  },
  {
   "cell_type": "code",
   "execution_count": 2,
   "metadata": {},
   "outputs": [
    {
     "name": "stdout",
     "output_type": "stream",
     "text": [
      "[0 1 2 3 4 5 6 7 8 9]\n"
     ]
    }
   ],
   "source": [
    "print(x.eval())"
   ]
  },
  {
   "cell_type": "code",
   "execution_count": 3,
   "metadata": {
    "collapsed": true
   },
   "outputs": [],
   "source": [
    "session.close()"
   ]
  },
  {
   "cell_type": "raw",
   "metadata": {},
   "source": [
    "# 查看内存占用\n",
    "import psutil\n",
    "import os\n",
    "\n",
    "\n",
    "info = psutil.virtual_memory()\n",
    "print u'内存使用：',psutil.Process(os.getpid()).memory_info().rss\n",
    "print u'总内存：',info.total\n",
    "print u'内存占比：',info.percent\n",
    "print u'cpu个数：',psutil.cpu_count()"
   ]
  },
  {
   "cell_type": "code",
   "execution_count": 4,
   "metadata": {},
   "outputs": [
    {
     "name": "stdout",
     "output_type": "stream",
     "text": [
      "133 MB\n",
      "8473 MB\n"
     ]
    }
   ],
   "source": [
    "import numpy as np\n",
    "import psutil \n",
    "import os\n",
    "\n",
    "info = psutil.virtual_memory()\n",
    "print('{} MB'.format(psutil.Process(os.getpid()).memory_info().rss//10**6))\n",
    "print('{} MB'.format(info.total//10**6))"
   ]
  },
  {
   "cell_type": "code",
   "execution_count": 5,
   "metadata": {},
   "outputs": [
    {
     "name": "stdout",
     "output_type": "stream",
     "text": [
      "957 MB\n"
     ]
    }
   ],
   "source": [
    "session = tf.InteractiveSession()\n",
    "\n",
    "X = tf.constant(np.eye(10000))\n",
    "Y = tf.constant(np.random.randn(10000,300))\n",
    "\n",
    "print('{} MB'.format(psutil.Process(os.getpid()).memory_info().rss//10**6))"
   ]
  },
  {
   "cell_type": "markdown",
   "metadata": {},
   "source": [
    "Two big matrices take up to 800MB memory."
   ]
  },
  {
   "cell_type": "code",
   "execution_count": 6,
   "metadata": {},
   "outputs": [
    {
     "name": "stdout",
     "output_type": "stream",
     "text": [
      "957 MB\n"
     ]
    }
   ],
   "source": [
    "Z = tf.matmul(X,Y)\n",
    "print('{} MB'.format(psutil.Process(os.getpid()).memory_info().rss//10**6))"
   ]
  },
  {
   "cell_type": "markdown",
   "metadata": {},
   "source": [
    "The creation of Z doesn't take any memory yet. It is only when we evaluate the operation do we actually computer this. For an interactive session, you can just use Z.eval(), rather than run session.run(Z)."
   ]
  },
  {
   "cell_type": "code",
   "execution_count": 7,
   "metadata": {},
   "outputs": [
    {
     "data": {
      "text/plain": [
       "array([[ 0.34275007, -0.58268928, -0.56147377, ..., -1.15129929,\n",
       "        -1.66634295, -1.04799718],\n",
       "       [-0.35583183,  0.95789762, -1.76384111, ...,  0.32249256,\n",
       "        -0.91812257, -1.65100816],\n",
       "       [ 1.17357614, -0.44601422, -0.83050116, ...,  0.10605906,\n",
       "         2.27904853, -0.46646366],\n",
       "       ..., \n",
       "       [ 0.15156022, -0.11988812, -0.68913261, ...,  0.7089646 ,\n",
       "         1.15074682, -1.58837129],\n",
       "       [-1.19054437,  0.46091227, -0.32057108, ..., -0.36754355,\n",
       "        -0.250602  ,  1.92580028],\n",
       "       [ 0.33607991, -1.29175867, -1.42523561, ..., -2.59516046,\n",
       "        -1.04159349,  1.37339989]])"
      ]
     },
     "execution_count": 7,
     "metadata": {},
     "output_type": "execute_result"
    }
   ],
   "source": [
    "Z.eval()"
   ]
  },
  {
   "cell_type": "code",
   "execution_count": 8,
   "metadata": {},
   "outputs": [
    {
     "name": "stdout",
     "output_type": "stream",
     "text": [
      "3784 MB\n"
     ]
    }
   ],
   "source": [
    "print('{} MB'.format(psutil.Process(os.getpid()).memory_info().rss//10**6))"
   ]
  },
  {
   "cell_type": "code",
   "execution_count": 9,
   "metadata": {},
   "outputs": [
    {
     "name": "stdout",
     "output_type": "stream",
     "text": [
      "3784 MB\n"
     ]
    }
   ],
   "source": [
    "session.close()\n",
    "print('{} MB'.format(psutil.Process(os.getpid()).memory_info().rss//10**6))"
   ]
  },
  {
   "cell_type": "raw",
   "metadata": {},
   "source": [
    "# Exercise:\n",
    "1) Create a large matrix (at least 10,000,000) of integer values (for example, use NumPy’s randint function). Check the memory usage after the matrix is created. Then, convert the matrix to float values using TensorFlow’s to_float function. Check the memory usage again to see an increase in memory usage of more than double. The “doubling” is caused by a copy of the matrix being created, but what is the cause of the “extra increase”? After performing this experiment, you can use this code to display the image.\n",
    "\n",
    "from PIL import Image\n",
    "from io import BytesIO\n",
    "\n",
    "##### read data from string\n",
    "im = Image.open(BytesIO(result))\n",
    "im"
   ]
  },
  {
   "cell_type": "code",
   "execution_count": 34,
   "metadata": {},
   "outputs": [
    {
     "name": "stdout",
     "output_type": "stream",
     "text": [
      "711 MB\n",
      "711 MB\n",
      "721 MB\n",
      "2405 MB\n",
      "2405 MB\n",
      "2435 MB\n"
     ]
    }
   ],
   "source": [
    "print('{} MB'.format(psutil.Process(os.getpid()).memory_info().rss//10**6))\n",
    "\n",
    "session = tf.InteractiveSession()\n",
    "print('{} MB'.format(psutil.Process(os.getpid()).memory_info().rss//10**6))\n",
    "\n",
    "data = tf.constant(np.random.randint(0,10000,(10000,1000)),dtype = 'uint8')\n",
    "print('{} MB'.format(psutil.Process(os.getpid()).memory_info().rss//10**6))\n",
    "\n",
    "data.eval()\n",
    "\n",
    "print('{} MB'.format(psutil.Process(os.getpid()).memory_info().rss//10**6))\n",
    "\n",
    "data = tf.to_float(data)\n",
    "print('{} MB'.format(psutil.Process(os.getpid()).memory_info().rss//10**6))\n",
    "\n",
    "data.eval()\n",
    "print('{} MB'.format(psutil.Process(os.getpid()).memory_info().rss//10**6))\n",
    "\n",
    "session.close()"
   ]
  },
  {
   "cell_type": "markdown",
   "metadata": {},
   "source": [
    "2) Use TensorFlow’s image functions to convert the image from the previous tutorial (or another image) to JPEG with different functions and record the memory usage."
   ]
  },
  {
   "cell_type": "code",
   "execution_count": null,
   "metadata": {
    "collapsed": true
   },
   "outputs": [],
   "source": []
  }
 ],
 "metadata": {
  "kernelspec": {
   "display_name": "Python 3",
   "language": "python",
   "name": "python3"
  },
  "language_info": {
   "codemirror_mode": {
    "name": "ipython",
    "version": 3
   },
   "file_extension": ".py",
   "mimetype": "text/x-python",
   "name": "python",
   "nbconvert_exporter": "python",
   "pygments_lexer": "ipython3",
   "version": "3.6.1"
  }
 },
 "nbformat": 4,
 "nbformat_minor": 2
}
